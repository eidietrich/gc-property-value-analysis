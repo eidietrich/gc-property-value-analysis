{
 "cells": [
  {
   "cell_type": "markdown",
   "metadata": {},
   "source": [
    "# Gallatin County parcel assessment parser\n",
    "\n",
    "Code that takes Montana Cadastral data for Gallatin County and massages it into analysis-friendly forms.\n",
    "\n",
    "Some of the workflow in producing/using the outputs here are in QGIS, also analysis in another notebook, gc-parcel-assessment-analyzer."
   ]
  },
  {
   "cell_type": "code",
   "execution_count": 239,
   "metadata": {
    "collapsed": true
   },
   "outputs": [],
   "source": [
    "# Libraries\n",
    "import pandas as pd\n",
    "import numpy as np\n",
    "\n",
    "import ast # used for ast.literal_eval function\n",
    "import csv"
   ]
  },
  {
   "cell_type": "code",
   "execution_count": 240,
   "metadata": {
    "collapsed": false
   },
   "outputs": [],
   "source": [
    "# Read in & merge data\n",
    "\n",
    "# Data comes from Montana Cadastral system\n",
    "# Downloaded as an ESRI shapefile, then exported to a .csv using QGIS\n",
    "# '2015' data downloaded in Sept. 2015, representing the 2014 assessment cycle\n",
    "# '2014' data is for 2008 assessment cycle\n",
    "# It came from an earlier (June 2015) download of cadastral data for Gallatin County,\n",
    "# before the state had added in the 2014 numbers.\n",
    "\n",
    "# Deep apologies to future self/readers for the opaque naming convention\n",
    "# Also note — Nov. 2015 publication didn't end up focusing on property value change,\n",
    "# so much of this analysis didn't end up being used at that point.\n",
    "\n",
    "# Read in current parcel values & rename some columns\n",
    "df2015 = pd.read_csv('gc-parcels-current-2015/gc-parcels-current-2015.csv', dtype={'parcelid':str,\n",
    "                                                                                   'totalacres':float,\n",
    "                                                                                   'totallandv':float,\n",
    "                                                                                   'totalbuild':float,\n",
    "                                                                                   'totalvalue':float})\n",
    "df2015 = df2015.rename(columns={'totalacres': 'SizeAcres',\n",
    "                                'totallandv': '2015LndVal',\n",
    "                                'totalbuild': '2015BldVal',\n",
    "                                'totalvalue': '2015TotVal',\n",
    "                                'propertyid': '2015PropID'})\n",
    "df2015 = df2015[df2015['parcelid'].notnull()] # removes rows w/ no geocode\n",
    "df2015 = df2015[df2015['parcelid'].apply(len) == 17] # removes rows w/ non-standard-length geocode\n",
    "df2015 = df2015.drop_duplicates(subset='parcelid') # removes rows w/ duplicate geocodes\n",
    "                                                                               \n",
    "# Read in data for 2008 assessment\n",
    "df2014 = pd.read_csv('gc-parcels-june-2015/gc-parcels-june-2015.csv', dtype={'parcelid':str})\n",
    "df2014 = df2014.rename(columns={'totalacres': '2014Acres',\n",
    "                                'totallandv': '2014LndVal',\n",
    "                                'totalbuild': '2014BldVal',\n",
    "                                'totalvalue': '2014TotVal',\n",
    "                                'propertyid': '2014PropID'})\n",
    "df2014 = df2014[df2014['parcelid'].notnull()] # removes rows w/ no geocode\n",
    "df2014 = df2014[df2014['parcelid'].apply(len) == 17] # removes rows w/ non-standard-length geocode\n",
    "df2014 = df2014.drop_duplicates(subset='parcelid') # removes rows w/ duplicate geocodes\n",
    "\n",
    "# Merge on 'parcelid' field\n",
    "df = pd.merge(df2015, df2014, how='left', on='parcelid')"
   ]
  },
  {
   "cell_type": "code",
   "execution_count": 241,
   "metadata": {
    "collapsed": false
   },
   "outputs": [],
   "source": [
    "# Cleaning up owner names using pairings from external file\n",
    "# e.g. 'US Forest Service' & 'Forest Service' --> 'UNITED STATES OF AMERICA''\n",
    "def ownerNameClean(name):\n",
    "    if name in ownerRename:\n",
    "        return ownerRename[name]\n",
    "    else:\n",
    "        return name\n",
    "\n",
    "with open('owner-name-corrections-reviewed.txt', 'r') as f:\n",
    "    ownerRename = ast.literal_eval(f.read()) #iterprets file as dict\n",
    "    \n",
    "df['orig_ownName'] = df['ownername']\n",
    "df['ownername'] = df['ownername'].apply(ownerNameClean)"
   ]
  },
  {
   "cell_type": "code",
   "execution_count": 242,
   "metadata": {
    "collapsed": false
   },
   "outputs": [],
   "source": [
    "# Parsing property types into categories\n",
    "\n",
    "# Dictionary for converting property use designations to aggregated categories\n",
    "# 'Raw data designation' : 'Sorted category'\n",
    "propTypeDict = {'VR - Vacant Land Rural': 'Vacant',\n",
    "                'VU - Vacant Land Urban': 'Vacant',\n",
    "                'AR - Agricultural Rural': 'Agricultural',\n",
    "                'AU - Agricultural Urban': 'Agricultural',\n",
    "                'FU - Farmstead Urban' : 'Agricultural',\n",
    "                'FR - Farmstead Rural' : 'Agricultural',\n",
    "                'EP - Exempt Property': 'Tax-exempt',\n",
    "                'CU - Commercial Urban': 'Commercial',\n",
    "                'CR - Commercial Rural': 'Commercial',\n",
    "                'RR - Residential Rural': 'Residential',\n",
    "                'RU - Residential Urban': 'Residential',\n",
    "                'TU - Townhouse Urban': 'Residential',\n",
    "                'TR - Townhouse Rural': 'Residential',\n",
    "                'BR - Commercial Condo Rural': 'Residential',\n",
    "                'KU - Condominium Urban': 'Residential',\n",
    "                'KR - Condominium Rural': 'Residential',\n",
    "                'IU - Industrial Urban': 'Industrial',\n",
    "                'IR - Industrial Rural': 'Industrial',\n",
    "                'MU - Mixed Use / Urban': 'Mixed-use',\n",
    "                'MR - Mixed Use / Rural': 'Mixed-use',\n",
    "                'CN - Centrally Assessed Non-Valued Property': 'Other/No Data',\n",
    "                'CA - Centrally Assessed': 'Other/No Data',\n",
    "                'NV - Non-Valued Property': 'Other/No Data'   \n",
    "               }\n",
    "\n",
    "def propTypeSort(propType):\n",
    "    if propType in propTypeDict:\n",
    "        return propTypeDict[propType]\n",
    "    else:\n",
    "        # print \"Can't parse: \", propType # For debugging\n",
    "        return 'Other/No Data'\n",
    "    \n",
    "df['PropCat'] = df['proptype'].apply(propTypeSort)"
   ]
  },
  {
   "cell_type": "code",
   "execution_count": 243,
   "metadata": {
    "collapsed": false
   },
   "outputs": [],
   "source": [
    "# Adding an 'inside Bozeman?' column using external list of geocodes for properties within city limits\n",
    "bznParcels = pd.read_csv('gc-parcels-inside-bzn.csv', dtype={'PARCELID':str,})\n",
    "\n",
    "df['inbzn'] = np.where(df['parcelid'].isin(bznParcels['PARCELID']), True, False)\n",
    "\n",
    "# Adding an 'inside NCOD?' columne using external list of geocodes\n",
    "ncodParcels = pd.read_csv('gc-parcels-inside-ncod.csv', dtype={'PARCELID':str,})\n",
    "\n",
    "df['inncod'] = np.where(df['parcelid'].isin(ncodParcels['PARCELID']), True, False)"
   ]
  },
  {
   "cell_type": "code",
   "execution_count": 244,
   "metadata": {
    "collapsed": false
   },
   "outputs": [],
   "source": [
    "# Calculating 2014 -> 2015 change in total value (only if both values are non-zero)\n",
    "def calcChange(val14, val15):\n",
    "    if val14 > 0 and val15 > 0:\n",
    "        return val15 - val14\n",
    "    else:\n",
    "        pass\n",
    "    \n",
    "df['TotChange'] = df.apply(lambda row: calcChange(row['2014TotVal'], row['2015TotVal']), axis=1)\n",
    "df['LndChange'] = df.apply(lambda row: calcChange(row['2014LndVal'], row['2015LndVal']), axis=1)\n",
    "df['BldChange'] = df.apply(lambda row: calcChange(row['2014BldVal'], row['2015BldVal']), axis=1)\n",
    "\n",
    "# Calculating percent change between 2014 and 2015\n",
    "def perChange(change, val14):\n",
    "    if (change >= 0 or change < 0) and val14 != 0:\n",
    "        return change / val14\n",
    "    else:\n",
    "        pass\n",
    "\n",
    "df['TotPerCh'] = df.apply(lambda row: perChange(row['TotChange'], row['2014TotVal']), axis=1)\n",
    "df['LndPerCh'] = df.apply(lambda row: perChange(row['LndChange'], row['2014LndVal']), axis=1)\n",
    "df['BldPerCh'] = df.apply(lambda row: perChange(row['BldChange'], row['2014BldVal']), axis=1)\n",
    "\n",
    "# Calculating 2015 value per square foot\n",
    "SF_PER_ACRE = 43560 # Conversion factor, number of square feet in an acre\n",
    "\n",
    "def valPerSf(value, acres):\n",
    "    if value > 0 and acres > 0:\n",
    "        return value / (acres * SF_PER_ACRE)\n",
    "    else:\n",
    "        pass\n",
    "    \n",
    "df['TotValPSF'] = df.apply(lambda row: valPerSf(row['2015TotVal'], row['SizeAcres']), axis=1)\n",
    "df['LndValPSF'] = df.apply(lambda row: valPerSf(row['2015LndVal'], row['SizeAcres']), axis=1)\n",
    "df['BldValPSF'] = df.apply(lambda row: valPerSf(row['2015BldVal'], row['SizeAcres']), axis=1)"
   ]
  },
  {
   "cell_type": "code",
   "execution_count": 245,
   "metadata": {
    "collapsed": false
   },
   "outputs": [],
   "source": [
    "# Adding columns for how much total land each owner owns, total value and # of parcels\n",
    "dfByOwner = df.groupby('ownername').agg({'ownername': 'count',\n",
    "                                      'SizeAcres': 'sum',\n",
    "                                      '2015TotVal': 'sum'})\n",
    "dfByOwner = dfByOwner.rename(columns={'ownername': 'Number'})\n",
    "\n",
    "def totValue(owner):\n",
    "    try:\n",
    "        return dfByOwner.loc[owner]['2015TotVal']\n",
    "    except:\n",
    "        pass\n",
    "    \n",
    "def totSize(owner):\n",
    "    try:\n",
    "        return dfByOwner.loc[owner]['SizeAcres']\n",
    "    except:\n",
    "        pass\n",
    "    \n",
    "def totParcels(owner):\n",
    "    try:\n",
    "        return dfByOwner.loc[owner]['Number']\n",
    "    except:\n",
    "        pass\n",
    "    \n",
    "df['ownerSize'] = df['ownername'].apply(totSize)\n",
    "df['ownerVal'] = df['ownername'].apply(totValue)\n",
    "df['ownerParcels'] = df['ownername'].apply(totParcels)"
   ]
  },
  {
   "cell_type": "code",
   "execution_count": 246,
   "metadata": {
    "collapsed": false
   },
   "outputs": [
    {
     "name": "stdout",
     "output_type": "stream",
     "text": [
      "Index([u'parcelid', u'2015PropID', u'assessment', u'subdivisio', u'addresslin', u'addressl_1', u'citystatez', u'propaccess', u'levydistri', u'proptype', u'SizeAcres', u'2015BldVal', u'2015LndVal', u'2015TotVal', u'ownername', u'owneraddre', u'owneradd_1', u'owneradd_2', u'ownercity', u'ownerstate', u'ownerzipco', u'careoftaxp', u'shape_area', u'2014PropID', u'2014Acres', u'2014BldVal', u'2014LndVal', u'2014TotVal', u'orig_ownName', u'PropCat', u'inbzn', u'inncod', u'TotChange', u'LndChange', u'BldChange', u'TotPerCh', u'LndPerCh', u'BldPerCh', u'TotValPSF', u'LndValPSF', u'BldValPSF', u'ownerSize', u'ownerVal', u'ownerParcels'], dtype='object')\n"
     ]
    },
    {
     "data": {
      "text/html": [
       "<div style=\"max-height:1000px;max-width:1500px;overflow:auto;\">\n",
       "<table border=\"1\" class=\"dataframe\">\n",
       "  <thead>\n",
       "    <tr style=\"text-align: right;\">\n",
       "      <th></th>\n",
       "      <th>parcelid</th>\n",
       "      <th>2015PropID</th>\n",
       "      <th>assessment</th>\n",
       "      <th>subdivisio</th>\n",
       "      <th>addresslin</th>\n",
       "      <th>addressl_1</th>\n",
       "      <th>citystatez</th>\n",
       "      <th>propaccess</th>\n",
       "      <th>levydistri</th>\n",
       "      <th>proptype</th>\n",
       "      <th>...</th>\n",
       "      <th>BldChange</th>\n",
       "      <th>TotPerCh</th>\n",
       "      <th>LndPerCh</th>\n",
       "      <th>BldPerCh</th>\n",
       "      <th>TotValPSF</th>\n",
       "      <th>LndValPSF</th>\n",
       "      <th>BldValPSF</th>\n",
       "      <th>ownerSize</th>\n",
       "      <th>ownerVal</th>\n",
       "      <th>ownerParcels</th>\n",
       "    </tr>\n",
       "  </thead>\n",
       "  <tbody>\n",
       "    <tr>\n",
       "      <th>0</th>\n",
       "      <td> 06079817214070000</td>\n",
       "      <td> 1528907</td>\n",
       "      <td> 00RGG66579</td>\n",
       "      <td> WOODLAND PARK SUB PH 2</td>\n",
       "      <td>         HATFIELD CT</td>\n",
       "      <td> NaN</td>\n",
       "      <td> BOZEMAN, MT 59715</td>\n",
       "      <td> NaN</td>\n",
       "      <td> 06-235041-7R 41</td>\n",
       "      <td> VR - Vacant Land Rural</td>\n",
       "      <td>...</td>\n",
       "      <td>NaN</td>\n",
       "      <td>NaN</td>\n",
       "      <td>NaN</td>\n",
       "      <td>NaN</td>\n",
       "      <td> 8.579316</td>\n",
       "      <td> 8.579316</td>\n",
       "      <td>NaN</td>\n",
       "      <td> 53.536</td>\n",
       "      <td> 1118514</td>\n",
       "      <td> 15</td>\n",
       "    </tr>\n",
       "    <tr>\n",
       "      <th>1</th>\n",
       "      <td> 06079817214110000</td>\n",
       "      <td> 1528909</td>\n",
       "      <td> 00RGG66581</td>\n",
       "      <td> WOODLAND PARK SUB PH 2</td>\n",
       "      <td> 139 GRANITE PEAK DR</td>\n",
       "      <td> NaN</td>\n",
       "      <td> BOZEMAN, MT 59715</td>\n",
       "      <td> NaN</td>\n",
       "      <td> 06-235041-7R 41</td>\n",
       "      <td> VR - Vacant Land Rural</td>\n",
       "      <td>...</td>\n",
       "      <td>NaN</td>\n",
       "      <td>NaN</td>\n",
       "      <td>NaN</td>\n",
       "      <td>NaN</td>\n",
       "      <td> 8.692427</td>\n",
       "      <td> 8.692427</td>\n",
       "      <td>NaN</td>\n",
       "      <td>  1.200</td>\n",
       "      <td>  443075</td>\n",
       "      <td>  7</td>\n",
       "    </tr>\n",
       "    <tr>\n",
       "      <th>2</th>\n",
       "      <td> 06079817214010000</td>\n",
       "      <td> 1528904</td>\n",
       "      <td> 00RGG66576</td>\n",
       "      <td> WOODLAND PARK SUB PH 2</td>\n",
       "      <td>         HATFIELD CT</td>\n",
       "      <td> NaN</td>\n",
       "      <td> BOZEMAN, MT 59715</td>\n",
       "      <td> NaN</td>\n",
       "      <td> 06-235041-7R 41</td>\n",
       "      <td> VR - Vacant Land Rural</td>\n",
       "      <td>...</td>\n",
       "      <td>NaN</td>\n",
       "      <td>NaN</td>\n",
       "      <td>NaN</td>\n",
       "      <td>NaN</td>\n",
       "      <td> 8.848875</td>\n",
       "      <td> 8.848875</td>\n",
       "      <td>NaN</td>\n",
       "      <td>  0.186</td>\n",
       "      <td>   71695</td>\n",
       "      <td>  1</td>\n",
       "    </tr>\n",
       "  </tbody>\n",
       "</table>\n",
       "<p>3 rows × 44 columns</p>\n",
       "</div>"
      ],
      "text/plain": [
       "            parcelid  2015PropID  assessment              subdivisio  \\\n",
       "0  06079817214070000     1528907  00RGG66579  WOODLAND PARK SUB PH 2   \n",
       "1  06079817214110000     1528909  00RGG66581  WOODLAND PARK SUB PH 2   \n",
       "2  06079817214010000     1528904  00RGG66576  WOODLAND PARK SUB PH 2   \n",
       "\n",
       "            addresslin addressl_1         citystatez propaccess  \\\n",
       "0          HATFIELD CT        NaN  BOZEMAN, MT 59715        NaN   \n",
       "1  139 GRANITE PEAK DR        NaN  BOZEMAN, MT 59715        NaN   \n",
       "2          HATFIELD CT        NaN  BOZEMAN, MT 59715        NaN   \n",
       "\n",
       "        levydistri                proptype     ...       BldChange  TotPerCh  \\\n",
       "0  06-235041-7R 41  VR - Vacant Land Rural     ...             NaN       NaN   \n",
       "1  06-235041-7R 41  VR - Vacant Land Rural     ...             NaN       NaN   \n",
       "2  06-235041-7R 41  VR - Vacant Land Rural     ...             NaN       NaN   \n",
       "\n",
       "   LndPerCh  BldPerCh TotValPSF LndValPSF BldValPSF ownerSize ownerVal  \\\n",
       "0       NaN       NaN  8.579316  8.579316       NaN    53.536  1118514   \n",
       "1       NaN       NaN  8.692427  8.692427       NaN     1.200   443075   \n",
       "2       NaN       NaN  8.848875  8.848875       NaN     0.186    71695   \n",
       "\n",
       "  ownerParcels  \n",
       "0           15  \n",
       "1            7  \n",
       "2            1  \n",
       "\n",
       "[3 rows x 44 columns]"
      ]
     },
     "execution_count": 246,
     "metadata": {},
     "output_type": "execute_result"
    }
   ],
   "source": [
    "# Preview output\n",
    "print df.columns\n",
    "df.head(3)"
   ]
  },
  {
   "cell_type": "code",
   "execution_count": 252,
   "metadata": {
    "collapsed": false
   },
   "outputs": [],
   "source": [
    "# Outputting select portions of data for mapping via import/merging with shapefile in QGIS\n",
    "OUTPUT_FILE_NAME = 'gc-parcels-for-gis'\n",
    "\n",
    "output_columns = ['parcelid', 'PropCat', 'addresslin',\n",
    "                  'SizeAcres', 'inbzn', 'inncod', 'ownername',\n",
    "                  '2015BldVal', '2015LndVal', '2015TotVal',\n",
    "                  'TotChange', 'LndChange', 'BldChange',\n",
    "                  'TotValPSF', 'LndValPSF', 'BldValPSF',\n",
    "                  'ownerSize', 'ownerVal', 'ownerParcels']\n",
    "\n",
    "dfOut = df[output_columns]\n",
    "dfOut.to_csv(OUTPUT_FILE_NAME + '.csv') \n",
    "\n",
    "# Create .csvt so QGIS doesn't convert PARCELID to a numeric value and #$#% up the join\n",
    "# See: http://anitagraser.com/2011/03/07/how-to-specify-data-types-of-csv-columns-for-use-in-qgis/\n",
    "\n",
    "csvt = '\"Integer\",' # entry for index column\n",
    "\n",
    "for column in dfOut.columns:\n",
    "    if column == 'PARCELID':\n",
    "        csvt += '\"String(17)\",'\n",
    "    elif dfOut[column].dtype == 'object':\n",
    "        csvt += '\"String\",'\n",
    "    elif dfOut[column].dtype == 'bool':\n",
    "        csvt += '\"String\",' # no bool option in csvt spec\n",
    "    elif dfOut[column].dtype == 'float64':\n",
    "        csvt += '\"Real\",'\n",
    "    else:\n",
    "        csvt += '\"\",' # Not sure if this works w/ .csvt spec\n",
    "\n",
    "csvt = csvt[:-1] # removes trailing comma\n",
    "        \n",
    "with open(OUTPUT_FILE_NAME + '.csvt', 'w') as f:\n",
    "    f.write(csvt)"
   ]
  },
  {
   "cell_type": "code",
   "execution_count": 248,
   "metadata": {
    "collapsed": false
   },
   "outputs": [],
   "source": [
    "# Outputting complete dataframe for analysis in another notebook\n",
    "df.to_csv('gc-parcels-complete.csv')"
   ]
  },
  {
   "cell_type": "code",
   "execution_count": 249,
   "metadata": {
    "collapsed": false
   },
   "outputs": [],
   "source": [
    "# List of owner names for checking standardization process\n",
    "df['ownername'].drop_duplicates().to_csv('gc-owner-list.csv')"
   ]
  },
  {
   "cell_type": "code",
   "execution_count": 250,
   "metadata": {
    "collapsed": false
   },
   "outputs": [],
   "source": [
    "# Export to JSON for treemap viz via d3js\n",
    "# Abandoned approach — turns out my web browser has a hard time animating 40K <div>s simultaneously\n",
    "\n",
    "# propCats = df['PropCat'].unique()\n",
    "\n",
    "# for category in propCats:\n",
    "#     dfTreemap = df[df['PropCat'] == category].groupby('ownername').agg({'ownername': 'count',\n",
    "#                                           'SizeAcres': 'sum',\n",
    "#                                           '2015TotVal': 'sum'})\n",
    "#     dfTreemap = dfTreemap.rename(columns={'ownername': 'parcels',\n",
    "#                                           'SizeAcres': 'totacres',\n",
    "#                                           '2015TotVal': 'totval'\n",
    "#                                        })\n",
    "#     dfTreemap.reset_index(level=0, inplace=True)\n",
    "#     # separate b/c parcels column is also initally labeled 'ownername'\n",
    "#     dfTreemap = dfTreemap.rename(columns={'ownername': 'name'})\n",
    "\n",
    "#     # Hacky way to catch '/' in other category messing up filepath\n",
    "#     if category == 'Other/No Data':\n",
    "#         category = 'Other or No Data'\n",
    "    \n",
    "#     print '\\n' + category\n",
    "#     print dfTreemap.head(2)\n",
    "    \n",
    "#     filepath = 'gc-parcel-treemap-viz/' + category + '-output.json'\n",
    "#     dfTreemap.to_json(filepath,orient='records')"
   ]
  },
  {
   "cell_type": "code",
   "execution_count": null,
   "metadata": {
    "collapsed": false
   },
   "outputs": [],
   "source": []
  },
  {
   "cell_type": "code",
   "execution_count": null,
   "metadata": {
    "collapsed": true
   },
   "outputs": [],
   "source": []
  }
 ],
 "metadata": {
  "kernelspec": {
   "display_name": "Python 2",
   "language": "python",
   "name": "python2"
  },
  "language_info": {
   "codemirror_mode": {
    "name": "ipython",
    "version": 2
   },
   "file_extension": ".py",
   "mimetype": "text/x-python",
   "name": "python",
   "nbconvert_exporter": "python",
   "pygments_lexer": "ipython2",
   "version": "2.7.10"
  }
 },
 "nbformat": 4,
 "nbformat_minor": 0
}
